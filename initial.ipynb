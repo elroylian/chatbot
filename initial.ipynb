{
 "cells": [
  {
   "cell_type": "markdown",
   "metadata": {},
   "source": [
    "# Run the cell below if db is empty"
   ]
  },
  {
   "cell_type": "code",
   "execution_count": null,
   "metadata": {},
   "outputs": [
    {
     "name": "stderr",
     "output_type": "stream",
     "text": [
      "c:\\Users\\elroy\\anaconda3\\envs\\chatbot_20241028\\Lib\\site-packages\\tqdm\\auto.py:21: TqdmWarning: IProgress not found. Please update jupyter and ipywidgets. See https://ipywidgets.readthedocs.io/en/stable/user_install.html\n",
      "  from .autonotebook import tqdm as notebook_tqdm\n"
     ]
    },
    {
     "name": "stdout",
     "output_type": "stream",
     "text": [
      "Checking for punkt data in C:\\Users\\elroy/nltk_data\\tokenizers\\punkt\n",
      "punkt data found in C:\\Users\\elroy/nltk_data\\tokenizers\\punkt\n",
      "Checking for punkt_tab data in C:\\Users\\elroy/nltk_data\\tokenizers\\punkt_tab\n",
      "punkt_tab data found in C:\\Users\\elroy/nltk_data\\tokenizers\\punkt_tab\n"
     ]
    }
   ],
   "source": [
    "from utils.chunk_doc import split_chunks\n",
    "from utils.convert_to_md import convert_all_pdfs_to_md\n",
    "\n",
    "convert_all_pdfs_to_md()\n",
    "split_chunks()"
   ]
  }
 ],
 "metadata": {
  "kernelspec": {
   "display_name": "chatbot",
   "language": "python",
   "name": "python3"
  },
  "language_info": {
   "codemirror_mode": {
    "name": "ipython",
    "version": 3
   },
   "file_extension": ".py",
   "mimetype": "text/x-python",
   "name": "python",
   "nbconvert_exporter": "python",
   "pygments_lexer": "ipython3",
   "version": "3.11.10"
  }
 },
 "nbformat": 4,
 "nbformat_minor": 2
}
